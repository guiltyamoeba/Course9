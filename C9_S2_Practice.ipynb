{
 "cells": [
  {
   "cell_type": "code",
   "execution_count": 1,
   "metadata": {
    "id": "nSUpRwg7pVYb"
   },
   "outputs": [],
   "source": [
    "#Task1\n",
    "import numpy as np\n",
    "import pandas as pd\n",
    "import matplotlib.pyplot as plt\n",
    "\n",
    "from sklearn.preprocessing import StandardScaler\n",
    "from sklearn.linear_model import LinearRegression\n",
    "from sklearn.model_selection import train_test_split\n",
    "from sklearn.metrics import mean_squared_error\n",
    "from sklearn.metrics import mean_absolute_error\n",
    "import seaborn as sns\n",
    "\n",
    "import warnings\n",
    "warnings.filterwarnings(\"ignore\")"
   ]
  },
  {
   "cell_type": "code",
   "execution_count": 2,
   "metadata": {
    "colab": {
     "base_uri": "https://localhost:8080/",
     "height": 790
    },
    "id": "gCt5cLFkpsag",
    "outputId": "c5c63fb9-5712-4b4e-f1fe-ef0ec9c0b8ce"
   },
   "outputs": [
    {
     "data": {
      "text/html": [
       "<div>\n",
       "<style scoped>\n",
       "    .dataframe tbody tr th:only-of-type {\n",
       "        vertical-align: middle;\n",
       "    }\n",
       "\n",
       "    .dataframe tbody tr th {\n",
       "        vertical-align: top;\n",
       "    }\n",
       "\n",
       "    .dataframe thead th {\n",
       "        text-align: right;\n",
       "    }\n",
       "</style>\n",
       "<table border=\"1\" class=\"dataframe\">\n",
       "  <thead>\n",
       "    <tr style=\"text-align: right;\">\n",
       "      <th></th>\n",
       "      <th>Date</th>\n",
       "      <th>Day</th>\n",
       "      <th>Month</th>\n",
       "      <th>Year</th>\n",
       "      <th>Customer_Age</th>\n",
       "      <th>Age_Group</th>\n",
       "      <th>Customer_Gender</th>\n",
       "      <th>Country</th>\n",
       "      <th>State</th>\n",
       "      <th>Product_Category</th>\n",
       "      <th>Sub_Category</th>\n",
       "      <th>Product</th>\n",
       "      <th>Order_Quantity</th>\n",
       "      <th>Unit_Cost</th>\n",
       "      <th>Unit_Price</th>\n",
       "      <th>Profit</th>\n",
       "      <th>Cost</th>\n",
       "      <th>Revenue</th>\n",
       "    </tr>\n",
       "  </thead>\n",
       "  <tbody>\n",
       "    <tr>\n",
       "      <th>0</th>\n",
       "      <td>26-11-2013</td>\n",
       "      <td>26</td>\n",
       "      <td>November</td>\n",
       "      <td>2013</td>\n",
       "      <td>19</td>\n",
       "      <td>Youth (&lt;25)</td>\n",
       "      <td>M</td>\n",
       "      <td>Canada</td>\n",
       "      <td>British Columbia</td>\n",
       "      <td>Accessories</td>\n",
       "      <td>Bike Racks</td>\n",
       "      <td>Hitch Rack - 4-Bike</td>\n",
       "      <td>8.0</td>\n",
       "      <td>45</td>\n",
       "      <td>120.0</td>\n",
       "      <td>590.0</td>\n",
       "      <td>360.0</td>\n",
       "      <td>950</td>\n",
       "    </tr>\n",
       "    <tr>\n",
       "      <th>1</th>\n",
       "      <td>26-11-2015</td>\n",
       "      <td>26</td>\n",
       "      <td>November</td>\n",
       "      <td>2015</td>\n",
       "      <td>19</td>\n",
       "      <td>Youth (&lt;25)</td>\n",
       "      <td>M</td>\n",
       "      <td>Canada</td>\n",
       "      <td>British Columbia</td>\n",
       "      <td>Accessories</td>\n",
       "      <td>Bike Racks</td>\n",
       "      <td>Hitch Rack - 4-Bike</td>\n",
       "      <td>8.0</td>\n",
       "      <td>45</td>\n",
       "      <td>120.0</td>\n",
       "      <td>590.0</td>\n",
       "      <td>360.0</td>\n",
       "      <td>950</td>\n",
       "    </tr>\n",
       "    <tr>\n",
       "      <th>2</th>\n",
       "      <td>02-08-2013</td>\n",
       "      <td>2</td>\n",
       "      <td>August</td>\n",
       "      <td>2013</td>\n",
       "      <td>29</td>\n",
       "      <td>Young Adults (25-34)</td>\n",
       "      <td>M</td>\n",
       "      <td>Canada</td>\n",
       "      <td>British Columbia</td>\n",
       "      <td>Accessories</td>\n",
       "      <td>Bike Racks</td>\n",
       "      <td>Hitch Rack - 4-Bike</td>\n",
       "      <td>5.0</td>\n",
       "      <td>45</td>\n",
       "      <td>120.0</td>\n",
       "      <td>369.0</td>\n",
       "      <td>225.0</td>\n",
       "      <td>594</td>\n",
       "    </tr>\n",
       "    <tr>\n",
       "      <th>3</th>\n",
       "      <td>02-08-2015</td>\n",
       "      <td>2</td>\n",
       "      <td>August</td>\n",
       "      <td>2015</td>\n",
       "      <td>29</td>\n",
       "      <td>Young Adults (25-34)</td>\n",
       "      <td>M</td>\n",
       "      <td>Canada</td>\n",
       "      <td>British Columbia</td>\n",
       "      <td>Accessories</td>\n",
       "      <td>Bike Racks</td>\n",
       "      <td>Hitch Rack - 4-Bike</td>\n",
       "      <td>7.0</td>\n",
       "      <td>45</td>\n",
       "      <td>120.0</td>\n",
       "      <td>517.0</td>\n",
       "      <td>315.0</td>\n",
       "      <td>832</td>\n",
       "    </tr>\n",
       "    <tr>\n",
       "      <th>4</th>\n",
       "      <td>02-09-2013</td>\n",
       "      <td>2</td>\n",
       "      <td>September</td>\n",
       "      <td>2013</td>\n",
       "      <td>29</td>\n",
       "      <td>Young Adults (25-34)</td>\n",
       "      <td>M</td>\n",
       "      <td>Canada</td>\n",
       "      <td>British Columbia</td>\n",
       "      <td>Accessories</td>\n",
       "      <td>Bike Racks</td>\n",
       "      <td>Hitch Rack - 4-Bike</td>\n",
       "      <td>2.0</td>\n",
       "      <td>45</td>\n",
       "      <td>120.0</td>\n",
       "      <td>148.0</td>\n",
       "      <td>90.0</td>\n",
       "      <td>238</td>\n",
       "    </tr>\n",
       "    <tr>\n",
       "      <th>...</th>\n",
       "      <td>...</td>\n",
       "      <td>...</td>\n",
       "      <td>...</td>\n",
       "      <td>...</td>\n",
       "      <td>...</td>\n",
       "      <td>...</td>\n",
       "      <td>...</td>\n",
       "      <td>...</td>\n",
       "      <td>...</td>\n",
       "      <td>...</td>\n",
       "      <td>...</td>\n",
       "      <td>...</td>\n",
       "      <td>...</td>\n",
       "      <td>...</td>\n",
       "      <td>...</td>\n",
       "      <td>...</td>\n",
       "      <td>...</td>\n",
       "      <td>...</td>\n",
       "    </tr>\n",
       "    <tr>\n",
       "      <th>495</th>\n",
       "      <td>18-02-2014</td>\n",
       "      <td>18</td>\n",
       "      <td>February</td>\n",
       "      <td>2014</td>\n",
       "      <td>37</td>\n",
       "      <td>Adults (35-64)</td>\n",
       "      <td>M</td>\n",
       "      <td>Canada</td>\n",
       "      <td>British Columbia</td>\n",
       "      <td>Accessories</td>\n",
       "      <td>Bottles and Cages</td>\n",
       "      <td>Water Bottle - 30 oz.</td>\n",
       "      <td>13.0</td>\n",
       "      <td>2</td>\n",
       "      <td>5.0</td>\n",
       "      <td>38.0</td>\n",
       "      <td>26.0</td>\n",
       "      <td>64</td>\n",
       "    </tr>\n",
       "    <tr>\n",
       "      <th>496</th>\n",
       "      <td>18-02-2016</td>\n",
       "      <td>18</td>\n",
       "      <td>February</td>\n",
       "      <td>2016</td>\n",
       "      <td>37</td>\n",
       "      <td>Adults (35-64)</td>\n",
       "      <td>M</td>\n",
       "      <td>Canada</td>\n",
       "      <td>British Columbia</td>\n",
       "      <td>Accessories</td>\n",
       "      <td>Bottles and Cages</td>\n",
       "      <td>Water Bottle - 30 oz.</td>\n",
       "      <td>31.0</td>\n",
       "      <td>2</td>\n",
       "      <td>5.0</td>\n",
       "      <td>91.0</td>\n",
       "      <td>62.0</td>\n",
       "      <td>153</td>\n",
       "    </tr>\n",
       "    <tr>\n",
       "      <th>497</th>\n",
       "      <td>18-02-2016</td>\n",
       "      <td>18</td>\n",
       "      <td>February</td>\n",
       "      <td>2016</td>\n",
       "      <td>37</td>\n",
       "      <td>Adults (35-64)</td>\n",
       "      <td>M</td>\n",
       "      <td>Canada</td>\n",
       "      <td>British Columbia</td>\n",
       "      <td>Accessories</td>\n",
       "      <td>Bottles and Cages</td>\n",
       "      <td>Water Bottle - 30 oz.</td>\n",
       "      <td>11.0</td>\n",
       "      <td>2</td>\n",
       "      <td>5.0</td>\n",
       "      <td>32.0</td>\n",
       "      <td>22.0</td>\n",
       "      <td>54</td>\n",
       "    </tr>\n",
       "    <tr>\n",
       "      <th>498</th>\n",
       "      <td>04-03-2014</td>\n",
       "      <td>4</td>\n",
       "      <td>March</td>\n",
       "      <td>2014</td>\n",
       "      <td>37</td>\n",
       "      <td>Adults (35-64)</td>\n",
       "      <td>M</td>\n",
       "      <td>Canada</td>\n",
       "      <td>British Columbia</td>\n",
       "      <td>Accessories</td>\n",
       "      <td>Bottles and Cages</td>\n",
       "      <td>Water Bottle - 30 oz.</td>\n",
       "      <td>5.0</td>\n",
       "      <td>2</td>\n",
       "      <td>5.0</td>\n",
       "      <td>15.0</td>\n",
       "      <td>10.0</td>\n",
       "      <td>25</td>\n",
       "    </tr>\n",
       "    <tr>\n",
       "      <th>499</th>\n",
       "      <td>04-03-2014</td>\n",
       "      <td>4</td>\n",
       "      <td>March</td>\n",
       "      <td>2014</td>\n",
       "      <td>37</td>\n",
       "      <td>Adults (35-64)</td>\n",
       "      <td>M</td>\n",
       "      <td>Canada</td>\n",
       "      <td>British Columbia</td>\n",
       "      <td>Accessories</td>\n",
       "      <td>Bottles and Cages</td>\n",
       "      <td>Water Bottle - 30 oz.</td>\n",
       "      <td>6.0</td>\n",
       "      <td>2</td>\n",
       "      <td>5.0</td>\n",
       "      <td>18.0</td>\n",
       "      <td>12.0</td>\n",
       "      <td>30</td>\n",
       "    </tr>\n",
       "  </tbody>\n",
       "</table>\n",
       "<p>500 rows × 18 columns</p>\n",
       "</div>"
      ],
      "text/plain": [
       "           Date  Day      Month  Year  Customer_Age             Age_Group  \\\n",
       "0    26-11-2013   26   November  2013            19           Youth (<25)   \n",
       "1    26-11-2015   26   November  2015            19           Youth (<25)   \n",
       "2    02-08-2013    2     August  2013            29  Young Adults (25-34)   \n",
       "3    02-08-2015    2     August  2015            29  Young Adults (25-34)   \n",
       "4    02-09-2013    2  September  2013            29  Young Adults (25-34)   \n",
       "..          ...  ...        ...   ...           ...                   ...   \n",
       "495  18-02-2014   18   February  2014            37        Adults (35-64)   \n",
       "496  18-02-2016   18   February  2016            37        Adults (35-64)   \n",
       "497  18-02-2016   18   February  2016            37        Adults (35-64)   \n",
       "498  04-03-2014    4      March  2014            37        Adults (35-64)   \n",
       "499  04-03-2014    4      March  2014            37        Adults (35-64)   \n",
       "\n",
       "    Customer_Gender Country             State Product_Category  \\\n",
       "0                 M  Canada  British Columbia      Accessories   \n",
       "1                 M  Canada  British Columbia      Accessories   \n",
       "2                 M  Canada  British Columbia      Accessories   \n",
       "3                 M  Canada  British Columbia      Accessories   \n",
       "4                 M  Canada  British Columbia      Accessories   \n",
       "..              ...     ...               ...              ...   \n",
       "495               M  Canada  British Columbia      Accessories   \n",
       "496               M  Canada  British Columbia      Accessories   \n",
       "497               M  Canada  British Columbia      Accessories   \n",
       "498               M  Canada  British Columbia      Accessories   \n",
       "499               M  Canada  British Columbia      Accessories   \n",
       "\n",
       "          Sub_Category                Product  Order_Quantity  Unit_Cost  \\\n",
       "0           Bike Racks    Hitch Rack - 4-Bike             8.0         45   \n",
       "1           Bike Racks    Hitch Rack - 4-Bike             8.0         45   \n",
       "2           Bike Racks    Hitch Rack - 4-Bike             5.0         45   \n",
       "3           Bike Racks    Hitch Rack - 4-Bike             7.0         45   \n",
       "4           Bike Racks    Hitch Rack - 4-Bike             2.0         45   \n",
       "..                 ...                    ...             ...        ...   \n",
       "495  Bottles and Cages  Water Bottle - 30 oz.            13.0          2   \n",
       "496  Bottles and Cages  Water Bottle - 30 oz.            31.0          2   \n",
       "497  Bottles and Cages  Water Bottle - 30 oz.            11.0          2   \n",
       "498  Bottles and Cages  Water Bottle - 30 oz.             5.0          2   \n",
       "499  Bottles and Cages  Water Bottle - 30 oz.             6.0          2   \n",
       "\n",
       "     Unit_Price  Profit   Cost  Revenue  \n",
       "0         120.0   590.0  360.0      950  \n",
       "1         120.0   590.0  360.0      950  \n",
       "2         120.0   369.0  225.0      594  \n",
       "3         120.0   517.0  315.0      832  \n",
       "4         120.0   148.0   90.0      238  \n",
       "..          ...     ...    ...      ...  \n",
       "495         5.0    38.0   26.0       64  \n",
       "496         5.0    91.0   62.0      153  \n",
       "497         5.0    32.0   22.0       54  \n",
       "498         5.0    15.0   10.0       25  \n",
       "499         5.0    18.0   12.0       30  \n",
       "\n",
       "[500 rows x 18 columns]"
      ]
     },
     "execution_count": 2,
     "metadata": {},
     "output_type": "execute_result"
    }
   ],
   "source": [
    "Bikesales_df = pd.read_csv(\"C:/Users/91918/OneDrive/Desktop/SUDHEERA/DataScience with Gen Ai/Course-9/Sprint-2/Practice/DS1_C9_S2_Practice_BikeSales_Data.csv\")\n",
    "Bikesales_df"
   ]
  },
  {
   "cell_type": "code",
   "execution_count": 5,
   "metadata": {
    "colab": {
     "base_uri": "https://localhost:8080/"
    },
    "id": "ZcYXufpgqWoa",
    "outputId": "f1e04b41-6e11-4c6f-b7c5-5efecb1435e7"
   },
   "outputs": [
    {
     "name": "stdout",
     "output_type": "stream",
     "text": [
      "<class 'pandas.core.frame.DataFrame'>\n",
      "RangeIndex: 500 entries, 0 to 499\n",
      "Data columns (total 18 columns):\n",
      " #   Column            Non-Null Count  Dtype  \n",
      "---  ------            --------------  -----  \n",
      " 0   Date              500 non-null    object \n",
      " 1   Day               500 non-null    int64  \n",
      " 2   Month             500 non-null    object \n",
      " 3   Year              500 non-null    int64  \n",
      " 4   Customer_Age      500 non-null    int64  \n",
      " 5   Age_Group         500 non-null    object \n",
      " 6   Customer_Gender   500 non-null    object \n",
      " 7   Country           500 non-null    object \n",
      " 8   State             500 non-null    object \n",
      " 9   Product_Category  500 non-null    object \n",
      " 10  Sub_Category      500 non-null    object \n",
      " 11  Product           500 non-null    object \n",
      " 12  Order_Quantity    495 non-null    float64\n",
      " 13  Unit_Cost         500 non-null    int64  \n",
      " 14  Unit_Price        497 non-null    float64\n",
      " 15  Profit            498 non-null    float64\n",
      " 16  Cost              498 non-null    float64\n",
      " 17  Revenue           500 non-null    int64  \n",
      "dtypes: float64(4), int64(5), object(9)\n",
      "memory usage: 70.4+ KB\n"
     ]
    }
   ],
   "source": [
    "Bikesales_df.info()"
   ]
  },
  {
   "cell_type": "code",
   "execution_count": 7,
   "metadata": {
    "colab": {
     "base_uri": "https://localhost:8080/",
     "height": 648
    },
    "id": "-SQXmPOmqblq",
    "outputId": "4a42644b-9a8a-45d1-cbb9-3629f1101940"
   },
   "outputs": [
    {
     "data": {
      "text/plain": [
       "Date                0\n",
       "Day                 0\n",
       "Month               0\n",
       "Year                0\n",
       "Customer_Age        0\n",
       "Age_Group           0\n",
       "Customer_Gender     0\n",
       "Country             0\n",
       "State               0\n",
       "Product_Category    0\n",
       "Sub_Category        0\n",
       "Product             0\n",
       "Order_Quantity      5\n",
       "Unit_Cost           0\n",
       "Unit_Price          3\n",
       "Profit              2\n",
       "Cost                2\n",
       "Revenue             0\n",
       "dtype: int64"
      ]
     },
     "execution_count": 7,
     "metadata": {},
     "output_type": "execute_result"
    }
   ],
   "source": [
    "Bikesales_df.isnull().sum()"
   ]
  },
  {
   "cell_type": "code",
   "execution_count": 11,
   "metadata": {
    "id": "udHB-lHrrw4g"
   },
   "outputs": [],
   "source": [
    "#TASK2:\n",
    "# Treating missing values\n",
    "x = Bikesales_df[\"Order_Quantity\"].mean()\n",
    "\n",
    "Bikesales_df[\"Order_Quantity\"].fillna(x, inplace= True)"
   ]
  },
  {
   "cell_type": "code",
   "execution_count": 13,
   "metadata": {
    "id": "pb8vH_72sDu7"
   },
   "outputs": [],
   "source": [
    "x = Bikesales_df[\"Unit_Price\"].mean()\n",
    "\n",
    "Bikesales_df[\"Unit_Price\"].fillna(x, inplace= True)"
   ]
  },
  {
   "cell_type": "code",
   "execution_count": 15,
   "metadata": {
    "id": "ktiAg1j1sip1"
   },
   "outputs": [],
   "source": [
    "x = Bikesales_df[\"Profit\"].mean()\n",
    "\n",
    "Bikesales_df[\"Profit\"].fillna(x, inplace= True)"
   ]
  },
  {
   "cell_type": "code",
   "execution_count": 17,
   "metadata": {
    "id": "KWpX_a9YsjHE"
   },
   "outputs": [],
   "source": [
    "x = Bikesales_df[\"Cost\"].mean()\n",
    "\n",
    "Bikesales_df[\"Cost\"].fillna(x, inplace= True)"
   ]
  },
  {
   "cell_type": "code",
   "execution_count": 19,
   "metadata": {
    "colab": {
     "base_uri": "https://localhost:8080/",
     "height": 648
    },
    "id": "zuZEl6Z2sRXp",
    "outputId": "f7e60511-7427-485b-99a7-1d19e7c3d57e"
   },
   "outputs": [
    {
     "data": {
      "text/plain": [
       "Date                0\n",
       "Day                 0\n",
       "Month               0\n",
       "Year                0\n",
       "Customer_Age        0\n",
       "Age_Group           0\n",
       "Customer_Gender     0\n",
       "Country             0\n",
       "State               0\n",
       "Product_Category    0\n",
       "Sub_Category        0\n",
       "Product             0\n",
       "Order_Quantity      0\n",
       "Unit_Cost           0\n",
       "Unit_Price          0\n",
       "Profit              0\n",
       "Cost                0\n",
       "Revenue             0\n",
       "dtype: int64"
      ]
     },
     "execution_count": 19,
     "metadata": {},
     "output_type": "execute_result"
    }
   ],
   "source": [
    "Bikesales_df.isnull().sum()"
   ]
  },
  {
   "cell_type": "code",
   "execution_count": 21,
   "metadata": {
    "colab": {
     "base_uri": "https://localhost:8080/"
    },
    "id": "cmpJlFc2uvNC",
    "outputId": "37c54e30-53fa-43e0-e1c5-5283b278f78b"
   },
   "outputs": [
    {
     "name": "stdout",
     "output_type": "stream",
     "text": [
      "Correlation of features with Revenue:\n",
      "Cost              0.998515\n",
      "Order_Quantity    0.037313\n",
      "Unit_Cost         0.642097\n",
      "Unit_Price        0.633293\n",
      "Name: Revenue, dtype: float64\n",
      "The feature with the highest correlation to Revenue is 'Cost' with a correlation value of 0.9985.\n"
     ]
    }
   ],
   "source": [
    "#Task2.2\n",
    "# Calculate correlation between 'Revenue' and other features\n",
    "correlation_matrix = Bikesales_df[['Cost', 'Order_Quantity', 'Unit_Cost', 'Unit_Price', 'Revenue']].corr()\n",
    "\n",
    "# Extract the correlation values for 'Revenue'\n",
    "revenue_correlation = correlation_matrix['Revenue'].drop('Revenue')\n",
    "\n",
    "# Display the correlation values\n",
    "print(\"Correlation of features with Revenue:\")\n",
    "print(revenue_correlation)\n",
    "\n",
    "# Select the feature with maximum correlation value\n",
    "max_correlation_feature = revenue_correlation.idxmax()\n",
    "max_correlation_value = revenue_correlation.max()\n",
    "\n",
    "print(f\"The feature with the highest correlation to Revenue is '{max_correlation_feature}' with a correlation value of {max_correlation_value:.4f}.\")\n"
   ]
  },
  {
   "cell_type": "code",
   "execution_count": 23,
   "metadata": {
    "colab": {
     "base_uri": "https://localhost:8080/"
    },
    "id": "u8U0TEpowIEo",
    "outputId": "62bee320-b58c-480e-8f28-8c56d4199b7a"
   },
   "outputs": [
    {
     "name": "stdout",
     "output_type": "stream",
     "text": [
      "Intercept: 80.5447\n",
      "Slope: 6.1016\n"
     ]
    }
   ],
   "source": [
    "#Task3:\n",
    "# Select the feature and the target variable\n",
    "X = Bikesales_df[['Unit_Price']]  # Predictor variable (feature)\n",
    "y = Bikesales_df['Revenue']       # Target variable (response)\n",
    "\n",
    "#Split the data into training and testing sets\n",
    "X_train, X_test, y_train, y_test = train_test_split(X, y, test_size=0.3, random_state=40)\n",
    "# Train the Linear Regression model\n",
    "model = LinearRegression()\n",
    "model.fit(X_train, y_train)\n",
    "#Make predictions\n",
    "y_pred = model.predict(X_test)\n",
    "# Evaluate the model parameters\n",
    "intercept = model.intercept_\n",
    "slope = model.coef_[0]\n",
    "# Print the intercept and slope\n",
    "print(f'Intercept: {intercept:.4f}')\n",
    "print(f'Slope: {slope:.4f}')\n",
    "\n",
    "# Print the predicted values\n",
    "#print(\"Predicted Revenue values:\", y_pred)"
   ]
  },
  {
   "cell_type": "code",
   "execution_count": 25,
   "metadata": {
    "colab": {
     "base_uri": "https://localhost:8080/"
    },
    "id": "LZpVjUGl3hn-",
    "outputId": "c8e544f7-bb02-4c00-aa4e-4c9796a097ed"
   },
   "outputs": [
    {
     "name": "stdout",
     "output_type": "stream",
     "text": [
      "Mean Squared Error (MSE): 218890.7013\n",
      "Root Mean Squared Error (RMSE): 467.8576\n",
      "Mean Absolute Error (MAE): 209.0090\n",
      "R² Score: 0.3547\n"
     ]
    }
   ],
   "source": [
    "#Task4:\n",
    "#Evaluate the model using MSE, RMSE, MAE, R²\n",
    "mse = mean_squared_error(y_test, y_pred)\n",
    "rmse = np.sqrt(mse)\n",
    "mae = mean_absolute_error(y_test, y_pred)\n",
    "from sklearn.metrics import r2_score\n",
    "r2 = r2_score(y_test, y_pred)\n",
    "\n",
    "# Print evaluation metrics\n",
    "print(f'Mean Squared Error (MSE): {mse:.4f}')\n",
    "print(f'Root Mean Squared Error (RMSE): {rmse:.4f}')\n",
    "print(f'Mean Absolute Error (MAE): {mae:.4f}')\n",
    "print(f'R² Score: {r2:.4f}')\n"
   ]
  },
  {
   "cell_type": "code",
   "execution_count": 37,
   "metadata": {
    "colab": {
     "base_uri": "https://localhost:8080/",
     "height": 564
    },
    "id": "BQXJWW6c43BI",
    "outputId": "9c23005d-4504-4f4c-a110-7b01d0eef3e8"
   },
   "outputs": [
    {
     "data": {
      "image/png": "[encoded data removed]",
      "text/plain": [
       "<Figure size 1000x600 with 1 Axes>"
      ]
     },
     "metadata": {},
     "output_type": "display_data"
    }
   ],
   "source": [
    "#Task4.2:visualization\n",
    "#Select the feature and target variable\n",
    "X = Bikesales_df[['Unit_Price']]  # Predictor variable\n",
    "y = Bikesales_df['Revenue']       # Target variable\n",
    "\n",
    "#Fit the Linear Regression model\n",
    "model = LinearRegression()\n",
    "model.fit(X, y)\n",
    "\n",
    "#Make predictions\n",
    "y_pred = model.predict(X)\n",
    "\n",
    "#Visualize the results\n",
    "plt.figure(figsize=(10, 6))\n",
    "plt.scatter(X, y, color='blue', label='Actual Revenue', s=100)\n",
    "plt.plot(X, y_pred, color='orange', label='Regression Line')\n",
    "plt.title('Linear Regression Model for Revenue Prediction')\n",
    "plt.xlabel('Unit Price')\n",
    "plt.ylabel('Revenue')\n",
    "plt.legend()\n",
    "plt.grid()\n",
    "plt.show()"
   ]
  },
  {
   "cell_type": "code",
   "execution_count": 35,
   "metadata": {
    "colab": {
     "base_uri": "https://localhost:8080/",
     "height": 772
    },
    "id": "y2nV3kWd5SJb",
    "outputId": "50297481-5f1b-4eac-8ae7-7432cc6475f8"
   },
   "outputs": [
    {
     "data": {
      "image/png": "[encoded data removed]",
      "text/plain": [
       "<Figure size 1000x600 with 1 Axes>"
      ]
     },
     "metadata": {},
     "output_type": "display_data"
    },
    {
     "name": "stdout",
     "output_type": "stream",
     "text": [
      "Residuals: 0      144.036113\n",
      "1      144.036113\n",
      "2     -211.963887\n",
      "3       26.036113\n",
      "4     -567.963887\n",
      "          ...    \n",
      "495    -45.404617\n",
      "496     43.595383\n",
      "497    -55.404617\n",
      "498    -84.404617\n",
      "499    -79.404617\n",
      "Name: Revenue, Length: 500, dtype: float64\n"
     ]
    }
   ],
   "source": [
    "#Task4.3:\n",
    "#Select the feature and target variable\n",
    "X = Bikesales_df[['Unit_Price']]  # Predictor variable\n",
    "y = Bikesales_df['Revenue']       # Target variable\n",
    "#Fit the Linear Regression model\n",
    "model = LinearRegression()\n",
    "model.fit(X, y)\n",
    "\n",
    "#Make predictions\n",
    "y_pred = model.predict(X)\n",
    "\n",
    "#Calculate residuals\n",
    "residuals = y - y_pred\n",
    "\n",
    "#Plot residuals\n",
    "plt.figure(figsize=(10, 6))\n",
    "plt.scatter(y_pred, residuals, color='blue', s=100)\n",
    "plt.axhline(0, color='orange', linestyle='--')  # Horizontal line at 0\n",
    "plt.title('Residuals of Linear Regression Model')\n",
    "plt.xlabel('Predicted Revenue')\n",
    "plt.ylabel('Residuals')\n",
    "plt.grid()\n",
    "plt.show()\n",
    "\n",
    "# Print residuals\n",
    "print(\"Residuals:\", residuals)"
   ]
  },
  {
   "cell_type": "code",
   "execution_count": 41,
   "metadata": {
    "id": "BAcSfhSw6A5P"
   },
   "outputs": [],
   "source": [
    "#Task4.4:\n",
    "#The model is able to capture the overall relationship between unit price and revenue. The residuals are randomly distributed, suggesting that the model's predictions are unbiased.\n"
   ]
  },
  {
   "cell_type": "code",
   "execution_count": null,
   "metadata": {},
   "outputs": [],
   "source": []
  }
 ],
 "metadata": {
  "colab": {
   "provenance": []
  },
  "kernelspec": {
   "display_name": "Python 3 (ipykernel)",
   "language": "python",
   "name": "python3"
  },
  "language_info": {
   "codemirror_mode": {
    "name": "ipython",
    "version": 3
   },
   "file_extension": ".py",
   "mimetype": "text/x-python",
   "name": "python",
   "nbconvert_exporter": "python",
   "pygments_lexer": "ipython3",
   "version": "3.12.4"
  }
 },
 "nbformat": 4,
 "nbformat_minor": 4
}
